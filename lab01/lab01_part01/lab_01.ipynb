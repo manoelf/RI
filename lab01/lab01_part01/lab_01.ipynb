{
 "cells": [
  {
   "cell_type": "markdown",
   "metadata": {},
   "source": [
    "<h1>LAB 01<h1>\n",
    "<h3>Busca Booleana<h3>"
   ]
  },
  {
   "cell_type": "code",
   "execution_count": 1,
   "metadata": {},
   "outputs": [
    {
     "name": "stdout",
     "output_type": "stream",
     "text": [
      "[nltk_data] Downloading package punkt to /home/manorlf/nltk_data...\n",
      "[nltk_data]   Package punkt is already up-to-date!\n"
     ]
    },
    {
     "data": {
      "text/plain": [
       "True"
      ]
     },
     "execution_count": 1,
     "metadata": {},
     "output_type": "execute_result"
    }
   ],
   "source": [
    "import pandas as pd\n",
    "import nltk as nltk\n",
    "nltk.download('punkt')\n"
   ]
  },
  {
   "cell_type": "code",
   "execution_count": 4,
   "metadata": {},
   "outputs": [],
   "source": [
    "df = pd.read_csv(\"../../data/estadao_noticias_eleicao.csv\")\n",
    "\n"
   ]
  },
  {
   "cell_type": "markdown",
   "metadata": {},
   "source": [
    "<h2>Simple Search</h2>"
   ]
  },
  {
   "cell_type": "code",
   "execution_count": 5,
   "metadata": {},
   "outputs": [],
   "source": [
    "data_result = dict()\n",
    "\n",
    "def find_term(term, data):\n",
    "    result = []\n",
    "    if (term in data_result):\n",
    "        result = data_result[term]\n",
    "    else:\n",
    "        rows = data.shape[0]\n",
    "    \n",
    "        aux = []\n",
    "        split = []\n",
    "        split2 = []\n",
    "        word1 = ''\n",
    "        word2 = ''\n",
    "\n",
    "    \n",
    "        for i in range(rows):\n",
    "            word1 = data.loc[i, 'titulo'].lower()\n",
    "            word2 = data.loc[i, 'conteudo'].lower()\n",
    "            split = nltk.word_tokenize(word1)\n",
    "            split2 = nltk.word_tokenize(word2)\n",
    "\n",
    "            if (contains_term(term, split) or contains_term(term, split2)):\n",
    "                result.append(data.loc[i, 'idNoticia'])\n",
    "        data_result[term] = result\n",
    "    return result\n",
    "        \n",
    "def contains_term(term, array):\n",
    "    for item in array:\n",
    "        if (term == item):\n",
    "            return True\n",
    "    return False\n",
    "\n"
   ]
  },
  {
   "cell_type": "markdown",
   "metadata": {},
   "source": [
    "<h2>Intersection Search</h2>"
   ]
  },
  {
   "cell_type": "code",
   "execution_count": 6,
   "metadata": {},
   "outputs": [],
   "source": [
    "\n",
    "# 2-terms AND\n",
    "#TODO: Need fixes\n",
    "def find_intersect(term1, term2, data):\n",
    "    results_t1 = find_term(term1, data)\n",
    "    results_t2 = find_term(term2, data)\n",
    "    result = []\n",
    "    \n",
    "\n",
    "    i = 0 \n",
    "    j = 0\n",
    "    \n",
    "    while (i < len(results_t1) and j < len(results_t2)):\n",
    "        if (results_t1[i] == results_t2[j]):\n",
    "            result.append(results_t1[i])\n",
    "            i += 1\n",
    "            j += 1\n",
    "        elif (results_t1[i] < results_t2[j]):\n",
    "            i += 1\n",
    "        else:\n",
    "            j += 1\n",
    "    return result\n",
    "\n",
    "\n"
   ]
  },
  {
   "cell_type": "markdown",
   "metadata": {},
   "source": [
    "<h2>Conjunction Search</h2>"
   ]
  },
  {
   "cell_type": "code",
   "execution_count": 7,
   "metadata": {},
   "outputs": [],
   "source": [
    "# 2-terms OR\n",
    "\n",
    "def find_conjunction(ter1, ter2, data):\n",
    "    result = []\n",
    "    \n",
    "    result_t1 = find_term(ter1, data)\n",
    "    result_t2 = find_term(ter2, data)\n",
    "    \n",
    "\n",
    "    i = 0\n",
    "    j = 0\n",
    "    \n",
    "    while (i < len(result_t1) and j < len(result_t2)):\n",
    "        if (result_t1[i] > result_t2[j]):\n",
    "            result.append(result_t2[j])\n",
    "            j += 1\n",
    "        elif (result_t1[i] < result_t2[j]):\n",
    "            result.append(result_t1[i])\n",
    "            i += 1\n",
    "        else:\n",
    "            result.append(result_t1[i])\n",
    "            i += 1\n",
    "            j += 1\n",
    "    while (i < len(result_t1)):\n",
    "        result.append(result_t1[i])\n",
    "        i += 1\n",
    "            \n",
    "    while (j < len(result_t2)):\n",
    "        result.append(result_t2[j])\n",
    "        j += 1\n",
    "   \n",
    "\n",
    "    return result\n",
    "        \n",
    "\n"
   ]
  },
  {
   "cell_type": "markdown",
   "metadata": {},
   "source": [
    "<h2>SEARCH</h2>"
   ]
  },
  {
   "cell_type": "code",
   "execution_count": 8,
   "metadata": {},
   "outputs": [],
   "source": [
    "def find(value, data):\n",
    "    array = value.split()\n",
    "    result = []\n",
    "    if (len(array) == 1):\n",
    "        result = find_term(array[0], data)\n",
    "    else:\n",
    "        if (array[1].lower() == 'or'):\n",
    "            result = find_conjunction(array[0], array[2], data)\n",
    "        else:\n",
    "            result = find_intersect(array[0], array[2], data)\n",
    "    return result \n",
    "\n",
    "def search(value):\n",
    "    return find(value, df)"
   ]
  },
  {
   "cell_type": "markdown",
   "metadata": {},
   "source": [
    "<br>2. presidenciáveis, corruptos (AND e OR)</br>"
   ]
  },
  {
   "cell_type": "code",
   "execution_count": 36,
   "metadata": {
    "collapsed": true
   },
   "outputs": [],
   "source": [
    "assert len(search(\"debate OR presidencial\")) == 1770\n",
    "assert len(search(\"debate AND presidencial\")) == 201"
   ]
  },
  {
   "cell_type": "markdown",
   "metadata": {},
   "source": [
    "<br>1. debate, presidenciável (AND e OR)</br>"
   ]
  },
  {
   "cell_type": "code",
   "execution_count": 17,
   "metadata": {
    "collapsed": true
   },
   "outputs": [],
   "source": [
    "assert len(search(\"presidenciáveis OR corruptos\")) == 163\n",
    "assert len(search(\"presidenciáveis AND corruptos\")) == 0"
   ]
  },
  {
   "cell_type": "markdown",
   "metadata": {},
   "source": [
    "<br>3. Belo, Horizonte (AND e OR)</br>"
   ]
  },
  {
   "cell_type": "code",
   "execution_count": 35,
   "metadata": {
    "collapsed": true
   },
   "outputs": [],
   "source": [
    "assert len(search(\"Belo OR Horizonte\")) == 331\n",
    "assert len(search(\"Belo AND Horizonte\")) == 242\n"
   ]
  },
  {
   "cell_type": "code",
   "execution_count": 25,
   "metadata": {},
   "outputs": [
    {
     "data": {
      "text/plain": [
       "'corruptos'"
      ]
     },
     "execution_count": 25,
     "metadata": {},
     "output_type": "execute_result"
    }
   ],
   "source": [
    "def find_best_word(term):\n",
    "    num = float(\"+inf\")\n",
    "    word = ''\n",
    "    for key in data_result.keys():\n",
    "        dist = nltk.edit_distance(key,term)\n",
    "        if(dist < num):\n",
    "            num = dist\n",
    "            word = key\n",
    "    return word\n",
    "    \n",
    "find_best_word(\"corrupt\")\n",
    "\n"
   ]
  },
  {
   "cell_type": "code",
   "execution_count": 27,
   "metadata": {},
   "outputs": [
    {
     "data": {
      "text/plain": [
       "1"
      ]
     },
     "execution_count": 27,
     "metadata": {},
     "output_type": "execute_result"
    }
   ],
   "source": [
    "nltk.edit_distance(\"corrupto\", \"corrupt\")"
   ]
  }
 ],
 "metadata": {
  "kernelspec": {
   "display_name": "Python 3",
   "language": "python",
   "name": "python3"
  },
  "language_info": {
   "codemirror_mode": {
    "name": "ipython",
    "version": 3
   },
   "file_extension": ".py",
   "mimetype": "text/x-python",
   "name": "python",
   "nbconvert_exporter": "python",
   "pygments_lexer": "ipython3",
   "version": "3.6.4"
  }
 },
 "nbformat": 4,
 "nbformat_minor": 2
}
