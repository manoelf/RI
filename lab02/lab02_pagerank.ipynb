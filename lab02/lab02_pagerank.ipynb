{
 "cells": [
  {
   "cell_type": "markdown",
   "metadata": {},
   "source": [
    "<h1>PAGERANK</h1>\n",
    "<p></p>\n",
    "In this lab we will do the PageRank algorithm and the data we're going to use is from http://snap.stanford.edu/data/soc-sign-bitcoinotc.html. Basically it is a network of people who trade using Bitcoin on a platform called Bitcoin OTC. Each investor has a rating and for our propourse we will work with the ones with rating greater or equal to 8.\n",
    "<p>\n",
    "Once we have the PageRank for each investor so we will be able to answer the following questions:\n",
    "    <li type=\"circle\">How many iterating the algorithm will run until to converge?</li>\n",
    "    <li type=\"circle\">Which are the most important investor according to the PageRank? and which are their PageRank values?</li>\n",
    "    <li type=\"circle\">How would I use PageRank if I was starting to invert on Bitcoins?</li></p>\n"
   ]
  },
  {
   "cell_type": "code",
   "execution_count": 201,
   "metadata": {},
   "outputs": [
    {
     "name": "stdout",
     "output_type": "stream",
     "text": [
      "[nltk_data] Downloading package punkt to /home/manorlf/nltk_data...\n",
      "[nltk_data]   Package punkt is already up-to-date!\n"
     ]
    },
    {
     "data": {
      "text/plain": [
       "True"
      ]
     },
     "execution_count": 201,
     "metadata": {},
     "output_type": "execute_result"
    }
   ],
   "source": [
    "import numpy as np\n",
    "import pandas as pd\n",
    "import nltk as nltk\n",
    "import math\n",
    "import operator\n",
    "nltk.download('punkt')"
   ]
  },
  {
   "cell_type": "markdown",
   "metadata": {},
   "source": [
    "## <p> Loaging the data values into a Pandas DataFrame</p>"
   ]
  },
  {
   "cell_type": "code",
   "execution_count": 202,
   "metadata": {},
   "outputs": [
    {
     "data": {
      "text/html": [
       "<div>\n",
       "<style scoped>\n",
       "    .dataframe tbody tr th:only-of-type {\n",
       "        vertical-align: middle;\n",
       "    }\n",
       "\n",
       "    .dataframe tbody tr th {\n",
       "        vertical-align: top;\n",
       "    }\n",
       "\n",
       "    .dataframe thead th {\n",
       "        text-align: right;\n",
       "    }\n",
       "</style>\n",
       "<table border=\"1\" class=\"dataframe\">\n",
       "  <thead>\n",
       "    <tr style=\"text-align: right;\">\n",
       "      <th></th>\n",
       "      <th>source</th>\n",
       "      <th>target</th>\n",
       "      <th>rating</th>\n",
       "      <th>time</th>\n",
       "    </tr>\n",
       "  </thead>\n",
       "  <tbody>\n",
       "    <tr>\n",
       "      <th>0</th>\n",
       "      <td>6</td>\n",
       "      <td>5</td>\n",
       "      <td>2</td>\n",
       "      <td>1.289242e+09</td>\n",
       "    </tr>\n",
       "    <tr>\n",
       "      <th>1</th>\n",
       "      <td>1</td>\n",
       "      <td>15</td>\n",
       "      <td>1</td>\n",
       "      <td>1.289243e+09</td>\n",
       "    </tr>\n",
       "    <tr>\n",
       "      <th>2</th>\n",
       "      <td>4</td>\n",
       "      <td>3</td>\n",
       "      <td>7</td>\n",
       "      <td>1.289245e+09</td>\n",
       "    </tr>\n",
       "    <tr>\n",
       "      <th>3</th>\n",
       "      <td>13</td>\n",
       "      <td>16</td>\n",
       "      <td>8</td>\n",
       "      <td>1.289254e+09</td>\n",
       "    </tr>\n",
       "    <tr>\n",
       "      <th>4</th>\n",
       "      <td>13</td>\n",
       "      <td>10</td>\n",
       "      <td>8</td>\n",
       "      <td>1.289254e+09</td>\n",
       "    </tr>\n",
       "  </tbody>\n",
       "</table>\n",
       "</div>"
      ],
      "text/plain": [
       "   source  target  rating          time\n",
       "0       6       5       2  1.289242e+09\n",
       "1       1      15       1  1.289243e+09\n",
       "2       4       3       7  1.289245e+09\n",
       "3      13      16       8  1.289254e+09\n",
       "4      13      10       8  1.289254e+09"
      ]
     },
     "execution_count": 202,
     "metadata": {},
     "output_type": "execute_result"
    }
   ],
   "source": [
    "data_set = pd.read_csv('../data/soc-sign-bitcoinotc.csv')\n",
    "data_set.columns = ['source', 'target', 'rating', 'time']\n",
    "data_set.head()\n"
   ]
  },
  {
   "cell_type": "markdown",
   "metadata": {},
   "source": [
    "<p>Here we'll choose the ones with rating greater or equals to 8.</p>"
   ]
  },
  {
   "cell_type": "code",
   "execution_count": 203,
   "metadata": {},
   "outputs": [],
   "source": [
    "#Filtering The ones with rating grater or iqual to 8\n",
    "\n",
    "new_data = data_set.loc[data_set['rating'] >= 8]\n",
    "new_data.index = np.arange(0, len(new_data))\n"
   ]
  },
  {
   "cell_type": "markdown",
   "metadata": {},
   "source": [
    "<p>Once we have selected the investor which we will analyse we will put all of them (source and target) in a list to better manipulate it .</p>"
   ]
  },
  {
   "cell_type": "code",
   "execution_count": 204,
   "metadata": {},
   "outputs": [],
   "source": [
    "#Mapping sorce and target to a list\n",
    "matter_inverstors = list(set(new_data.source).union(set(new_data.target)))\n"
   ]
  },
  {
   "cell_type": "markdown",
   "metadata": {},
   "source": [
    "<p>We're going to map each source with his respective targets so we'll get a adjacency list. </p>"
   ]
  },
  {
   "cell_type": "code",
   "execution_count": 205,
   "metadata": {},
   "outputs": [],
   "source": [
    "adj_dict = dict()"
   ]
  },
  {
   "cell_type": "code",
   "execution_count": 206,
   "metadata": {},
   "outputs": [],
   "source": [
    "def fill_adj(adj_dict, data_set, matter_inverstors):\n",
    "    for index in range(data_set.shape[0]):\n",
    "        add_to_adj(adj_dict, matter_inverstors.index(data_set.loc[index,'source']), matter_inverstors.index(data_set.loc[index,'target']))\n",
    "        \n",
    "def add_to_adj(adj, source, target):\n",
    "    if (source in adj):\n",
    "        adj[source].append(target)\n",
    "    else:\n",
    "        adj[source] = [target]\n",
    "    \n",
    "    if (target not in adj):\n",
    "        adj[target] = []\n"
   ]
  },
  {
   "cell_type": "markdown",
   "metadata": {},
   "source": [
    "<p>    With all data on hands so it is time to create the <b>Transition Matrix</b>.\n",
    "    For each node (which means investor) we will put a weight. How do we calculate it?\n",
    "    It'll be one divided by the total of adjacent nodes, and foreach adjacent node column will have that weight.\n",
    "</p>"
   ]
  },
  {
   "cell_type": "code",
   "execution_count": 207,
   "metadata": {},
   "outputs": [],
   "source": [
    "def fill_transition_matrix(transition_matrix, adj_dict):\n",
    "    for node in adj_dict.keys():\n",
    "        adjacents = adj_dict[node]\n",
    "        if (len(adjacents) > 0):\n",
    "            weight = 1.0/len(adjacents)\n",
    "            for adj in adjacents:\n",
    "                transition_matrix[adj][node] = weight\n"
   ]
  },
  {
   "cell_type": "code",
   "execution_count": 208,
   "metadata": {},
   "outputs": [],
   "source": [
    "#Constants\n",
    "TOTAL_NODES = len(matter_inverstors)\n",
    "DAMPING_FACTOR = 0.15\n",
    "ALPHA = 0.85\n",
    "NORM = 1.0/float(TOTAL_NODES)"
   ]
  },
  {
   "cell_type": "code",
   "execution_count": 209,
   "metadata": {},
   "outputs": [],
   "source": [
    "fill_adj(adj_dict, new_data, matter_inverstors)"
   ]
  },
  {
   "cell_type": "markdown",
   "metadata": {},
   "source": [
    "<p>So Time to build the transition matrix\n",
    "Initially it will be a matrix with the dimension total of nodes analyzed, so it gonna be about 915x915 accordance with our data. Once the initial matrix created so will fill with the right values.\n",
    "</p>"
   ]
  },
  {
   "cell_type": "code",
   "execution_count": 210,
   "metadata": {},
   "outputs": [],
   "source": [
    "'''\n",
    "    Original Transition Matrix\n",
    "'''\n",
    "\n",
    "transition_matrix = np.zeros((TOTAL_NODES, TOTAL_NODES))"
   ]
  },
  {
   "cell_type": "code",
   "execution_count": 211,
   "metadata": {},
   "outputs": [],
   "source": [
    "'''\n",
    "    Filling the values for each node that is linked with others\n",
    "'''\n",
    "fill_transition_matrix(transition_matrix, adj_dict)"
   ]
  },
  {
   "cell_type": "markdown",
   "metadata": {},
   "source": [
    "<p>\n",
    "    <b>Google Matrix</b>  with damping factor 0.15.\n",
    "</p>"
   ]
  },
  {
   "cell_type": "code",
   "execution_count": 212,
   "metadata": {},
   "outputs": [],
   "source": [
    "'''\n",
    "    Google Matrix m with dumping factor 0.15\n",
    "'''\n",
    "dumping_matrix_factor = np.ones((TOTAL_NODES, TOTAL_NODES))\n",
    "dumping_matrix_factor = (NORM * np.matrix(dumping_matrix_factor))\n"
   ]
  },
  {
   "cell_type": "code",
   "execution_count": 213,
   "metadata": {},
   "outputs": [],
   "source": [
    "m = ALPHA * transition_matrix + DAMPING_FACTOR * dumping_matrix_factor"
   ]
  },
  {
   "cell_type": "markdown",
   "metadata": {},
   "source": [
    "<p>\n",
    "    <b>Normalized Vector</b> for juping value to the ones which would be zero\n",
    "\n",
    "</p>"
   ]
  },
  {
   "cell_type": "code",
   "execution_count": 214,
   "metadata": {},
   "outputs": [],
   "source": [
    "'''\n",
    "    Original Normalized Vector\n",
    "'''\n",
    "normalized_vector = np.ones((TOTAL_NODES, 1))\n",
    "normalized_vector = (NORM * np.matrix(normalized_vector))"
   ]
  },
  {
   "cell_type": "markdown",
   "metadata": {},
   "source": [
    "<font size=\"+3\" color=\"green\">PageRank Algorithm</font>"
   ]
  },
  {
   "cell_type": "code",
   "execution_count": 215,
   "metadata": {},
   "outputs": [],
   "source": [
    "cont = 0\n",
    "\n",
    "def pagerank(v):\n",
    "    global cont\n",
    "    calc = sum(abs(m * v - v))\n",
    "    if (calc > 0.001):\n",
    "        cont += 1\n",
    "        return pagerank(m * v)\n",
    "    else:\n",
    "        cont += 1\n",
    "        return m * v\n",
    "    \n",
    "    "
   ]
  },
  {
   "cell_type": "code",
   "execution_count": 216,
   "metadata": {},
   "outputs": [],
   "source": [
    "v = normalized_vector\n",
    "result = pagerank(v)\n",
    "\n"
   ]
  },
  {
   "cell_type": "code",
   "execution_count": 232,
   "metadata": {},
   "outputs": [],
   "source": [
    "result_list = []\n",
    "for i in result:\n",
    "    result_list.append(i.item())\n"
   ]
  },
  {
   "cell_type": "markdown",
   "metadata": {},
   "source": [
    "<p>The total of iteration that the algorithm did until get convergence was:</p>"
   ]
  },
  {
   "cell_type": "code",
   "execution_count": 234,
   "metadata": {},
   "outputs": [
    {
     "name": "stdout",
     "output_type": "stream",
     "text": [
      "35\n"
     ]
    }
   ],
   "source": [
    "print(cont)"
   ]
  },
  {
   "cell_type": "markdown",
   "metadata": {},
   "source": [
    "## <p>      <b>35</b> iterations and the pagerank was calculated. So the best investors are the following:\n",
    "</p>"
   ]
  },
  {
   "cell_type": "code",
   "execution_count": 228,
   "metadata": {},
   "outputs": [
    {
     "data": {
      "text/html": [
       "<div>\n",
       "<style scoped>\n",
       "    .dataframe tbody tr th:only-of-type {\n",
       "        vertical-align: middle;\n",
       "    }\n",
       "\n",
       "    .dataframe tbody tr th {\n",
       "        vertical-align: top;\n",
       "    }\n",
       "\n",
       "    .dataframe thead th {\n",
       "        text-align: right;\n",
       "    }\n",
       "</style>\n",
       "<table border=\"1\" class=\"dataframe\">\n",
       "  <thead>\n",
       "    <tr style=\"text-align: right;\">\n",
       "      <th></th>\n",
       "      <th>nodes</th>\n",
       "      <th>pagerank</th>\n",
       "    </tr>\n",
       "  </thead>\n",
       "  <tbody>\n",
       "    <tr>\n",
       "      <th>0</th>\n",
       "      <td>1</td>\n",
       "      <td>0.000139</td>\n",
       "    </tr>\n",
       "    <tr>\n",
       "      <th>120</th>\n",
       "      <td>202</td>\n",
       "      <td>0.000125</td>\n",
       "    </tr>\n",
       "    <tr>\n",
       "      <th>94</th>\n",
       "      <td>144</td>\n",
       "      <td>0.000117</td>\n",
       "    </tr>\n",
       "    <tr>\n",
       "      <th>887</th>\n",
       "      <td>3996</td>\n",
       "      <td>0.000093</td>\n",
       "    </tr>\n",
       "    <tr>\n",
       "      <th>182</th>\n",
       "      <td>361</td>\n",
       "      <td>0.000092</td>\n",
       "    </tr>\n",
       "  </tbody>\n",
       "</table>\n",
       "</div>"
      ],
      "text/plain": [
       "     nodes  pagerank\n",
       "0        1  0.000139\n",
       "120    202  0.000125\n",
       "94     144  0.000117\n",
       "887   3996  0.000093\n",
       "182    361  0.000092"
      ]
     },
     "execution_count": 228,
     "metadata": {},
     "output_type": "execute_result"
    }
   ],
   "source": [
    "ranked_df = pd.DataFrame({'nodes':matter_inverstors, 'pagerank':result_list})\n",
    "ranked_df.sort_values('pagerank', ascending=False).take(range(5))"
   ]
  },
  {
   "cell_type": "markdown",
   "metadata": {},
   "source": [
    "<p>  Once we have all data we will put it in csv file in order to generate the visual thing, I mean a graphic with the nodes and edges, of course including the pagerank value to compare with others.\n",
    "<p></p>\n",
    "    As in the graphic we can see five colored node which are our best investors, so if I was going to invest in Bitcoins sure those guys would be in my contact list as reference to trade with them. As they got a good pagerank the are influent in the market.\n",
    "        \n",
    "</p>"
   ]
  },
  {
   "cell_type": "code",
   "execution_count": 231,
   "metadata": {},
   "outputs": [],
   "source": [
    "ranked_df.to_csv(path_or_buf='results/result.csv', index=False)\n",
    "new_data.to_csv(path_or_buf='results/filtered-sign-bitcoinotc.csv', columns=['source', 'target', 'rating'], index=False)"
   ]
  },
  {
   "cell_type": "markdown",
   "metadata": {},
   "source": [
    "<img src=\"./gephi/visualization.png\"></img>\n",
    "\n"
   ]
  }
 ],
 "metadata": {
  "kernelspec": {
   "display_name": "Python 3",
   "language": "python",
   "name": "python3"
  },
  "language_info": {
   "codemirror_mode": {
    "name": "ipython",
    "version": 3
   },
   "file_extension": ".py",
   "mimetype": "text/x-python",
   "name": "python",
   "nbconvert_exporter": "python",
   "pygments_lexer": "ipython3",
   "version": "3.6.4"
  }
 },
 "nbformat": 4,
 "nbformat_minor": 2
}
