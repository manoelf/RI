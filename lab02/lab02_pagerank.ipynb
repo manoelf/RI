{
 "cells": [
  {
   "cell_type": "markdown",
   "metadata": {},
   "source": [
    "<h1>PAGERANK</h1>"
   ]
  },
  {
   "cell_type": "code",
   "execution_count": 2,
   "metadata": {},
   "outputs": [
    {
     "name": "stdout",
     "output_type": "stream",
     "text": [
      "[nltk_data] Downloading package punkt to /home/josemsf/nltk_data...\n",
      "[nltk_data]   Package punkt is already up-to-date!\n"
     ]
    },
    {
     "data": {
      "text/plain": [
       "True"
      ]
     },
     "execution_count": 2,
     "metadata": {},
     "output_type": "execute_result"
    }
   ],
   "source": [
    "import numpy as np\n",
    "import pandas as pd\n",
    "import nltk as nltk\n",
    "import math\n",
    "import operator\n",
    "nltk.download('punkt')"
   ]
  },
  {
   "cell_type": "code",
   "execution_count": 3,
   "metadata": {},
   "outputs": [
    {
     "data": {
      "text/html": [
       "<div>\n",
       "<style>\n",
       "    .dataframe thead tr:only-child th {\n",
       "        text-align: right;\n",
       "    }\n",
       "\n",
       "    .dataframe thead th {\n",
       "        text-align: left;\n",
       "    }\n",
       "\n",
       "    .dataframe tbody tr th {\n",
       "        vertical-align: top;\n",
       "    }\n",
       "</style>\n",
       "<table border=\"1\" class=\"dataframe\">\n",
       "  <thead>\n",
       "    <tr style=\"text-align: right;\">\n",
       "      <th></th>\n",
       "      <th>source</th>\n",
       "      <th>target</th>\n",
       "      <th>rating</th>\n",
       "      <th>time</th>\n",
       "    </tr>\n",
       "  </thead>\n",
       "  <tbody>\n",
       "    <tr>\n",
       "      <th>0</th>\n",
       "      <td>6</td>\n",
       "      <td>5</td>\n",
       "      <td>2</td>\n",
       "      <td>1.289242e+09</td>\n",
       "    </tr>\n",
       "    <tr>\n",
       "      <th>1</th>\n",
       "      <td>1</td>\n",
       "      <td>15</td>\n",
       "      <td>1</td>\n",
       "      <td>1.289243e+09</td>\n",
       "    </tr>\n",
       "    <tr>\n",
       "      <th>2</th>\n",
       "      <td>4</td>\n",
       "      <td>3</td>\n",
       "      <td>7</td>\n",
       "      <td>1.289245e+09</td>\n",
       "    </tr>\n",
       "    <tr>\n",
       "      <th>3</th>\n",
       "      <td>13</td>\n",
       "      <td>16</td>\n",
       "      <td>8</td>\n",
       "      <td>1.289254e+09</td>\n",
       "    </tr>\n",
       "    <tr>\n",
       "      <th>4</th>\n",
       "      <td>13</td>\n",
       "      <td>10</td>\n",
       "      <td>8</td>\n",
       "      <td>1.289254e+09</td>\n",
       "    </tr>\n",
       "  </tbody>\n",
       "</table>\n",
       "</div>"
      ],
      "text/plain": [
       "   source  target  rating          time\n",
       "0       6       5       2  1.289242e+09\n",
       "1       1      15       1  1.289243e+09\n",
       "2       4       3       7  1.289245e+09\n",
       "3      13      16       8  1.289254e+09\n",
       "4      13      10       8  1.289254e+09"
      ]
     },
     "execution_count": 3,
     "metadata": {},
     "output_type": "execute_result"
    }
   ],
   "source": [
    "data_set = pd.read_csv('../data/soc-sign-bitcoinotc.csv')\n",
    "data_set.columns = ['source', 'target', 'rating', 'time']\n",
    "data_set.head()\n"
   ]
  },
  {
   "cell_type": "code",
   "execution_count": 28,
   "metadata": {},
   "outputs": [
    {
     "data": {
      "text/plain": [
       "1150"
      ]
     },
     "execution_count": 28,
     "metadata": {},
     "output_type": "execute_result"
    }
   ],
   "source": [
    "#Filtering The ones with rating grater or iqual to 8\n",
    "\n",
    "new_data = data_set.loc[data_set['rating'] >= 8]\n",
    "new_data.index = np.arange(0, len(new_data))\n",
    "len(new_data)\n",
    "\n"
   ]
  },
  {
   "cell_type": "code",
   "execution_count": 40,
   "metadata": {},
   "outputs": [],
   "source": [
    "#Mapping sorce and target to a list\n",
    "\n",
    "matter_inverstors = list(set(new_data.source).union(set(new_data.target)))\n",
    "\n",
    "\n",
    "adj_dict = dict()"
   ]
  },
  {
   "cell_type": "code",
   "execution_count": 39,
   "metadata": {},
   "outputs": [],
   "source": [
    "\n",
    "def fill_adj(adj_dict, data_set, matter_inverstors):\n",
    "    for index in range(data_set.shape[0]):\n",
    "        add_to_adj(adj_dict, matter_inverstors.index(data_set.loc[index,'source']), matter_inverstors.index(data_set.loc[index,'target']))\n",
    "        \n",
    "def add_to_adj(adj, source, target):\n",
    "    if (source in adj):\n",
    "        adj[source].append(target)\n",
    "    else:\n",
    "        adj[source] = [target]\n",
    "    \n",
    "    if (target not in adj):\n",
    "        adj[target] = []\n",
    "        \n",
    "\n",
    "\n"
   ]
  },
  {
   "cell_type": "code",
   "execution_count": 41,
   "metadata": {
    "collapsed": true
   },
   "outputs": [],
   "source": [
    "fill_adj(adj_dict, new_data, matter_inverstors)"
   ]
  },
  {
   "cell_type": "code",
   "execution_count": 61,
   "metadata": {},
   "outputs": [],
   "source": [
    "total_nodes = len(matter_inverstors)\n",
    "\n",
    "\n",
    "transition_matrix = np.zeros((total_nodes, total_nodes))\n",
    "\n",
    "def fill_transition_matrix(transition_matrix, adj_dict):\n",
    "    for node in adj_dict.keys():\n",
    "        adjacents = adj_dict[node]\n",
    "        if (len(adjacents) > 0):\n",
    "            weight = 1.0/len(adjacents)\n",
    "            for adj in adjacents:\n",
    "                transition_matrix[node][adj] = weight\n",
    "\n",
    "fill_transition_matrix(transition_matrix, adj_dict)\n"
   ]
  },
  {
   "cell_type": "code",
   "execution_count": null,
   "metadata": {
    "collapsed": true
   },
   "outputs": [],
   "source": [
    "#Constants\n"
   ]
  },
  {
   "cell_type": "code",
   "execution_count": 62,
   "metadata": {
    "collapsed": true
   },
   "outputs": [],
   "source": [
    "dumping_matrix_factor = np.ones((total_nodes, total_nodes))\n",
    "dumping_matrix_factor = (1.0/float(total_nodes) * np.matrix(dumping_matrix_factor))\n"
   ]
  },
  {
   "cell_type": "code",
   "execution_count": 63,
   "metadata": {},
   "outputs": [],
   "source": [
    "m = 0.85 * transition_matrix + 0.15 * dumping_matrix_factor"
   ]
  },
  {
   "cell_type": "code",
   "execution_count": 64,
   "metadata": {
    "collapsed": true
   },
   "outputs": [],
   "source": [
    "normalized_vector = np.ones((total_nodes, 1))\n",
    "normalized_vector = (1.0/float(total_nodes) * np.matrix(normalized_vector))"
   ]
  },
  {
   "cell_type": "code",
   "execution_count": 67,
   "metadata": {
    "collapsed": true
   },
   "outputs": [],
   "source": [
    "cont = 0\n",
    "\n",
    "def pagerank(v):\n",
    "    global cont\n",
    "    calc = sum(abs(m * v - v))\n",
    "    if (calc > 0.001):\n",
    "        cont += 1\n",
    "        return pagerank(m * v)\n",
    "    else:\n",
    "        cont += 1\n",
    "        return m * v\n",
    "    \n",
    "    "
   ]
  },
  {
   "cell_type": "code",
   "execution_count": 68,
   "metadata": {},
   "outputs": [
    {
     "name": "stdout",
     "output_type": "stream",
     "text": [
      "35\n"
     ]
    }
   ],
   "source": [
    "v = normalized_vector\n",
    "result = pagerank(v)\n",
    "\n",
    "print(cont)"
   ]
  }
 ],
 "metadata": {
  "kernelspec": {
   "display_name": "Python 3",
   "language": "python",
   "name": "python3"
  },
  "language_info": {
   "codemirror_mode": {
    "name": "ipython",
    "version": 3
   },
   "file_extension": ".py",
   "mimetype": "text/x-python",
   "name": "python",
   "nbconvert_exporter": "python",
   "pygments_lexer": "ipython3",
   "version": "3.6.2"
  }
 },
 "nbformat": 4,
 "nbformat_minor": 2
}
